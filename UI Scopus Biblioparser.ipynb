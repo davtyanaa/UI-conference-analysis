{
 "cells": [
  {
   "cell_type": "code",
   "execution_count": 3,
   "metadata": {
    "hide_input": false,
    "scrolled": true
   },
   "outputs": [
    {
     "data": {
      "application/vnd.jupyter.widget-view+json": {
       "model_id": "6ba3cf8aa08d4a8b8c8b920813edbb96",
       "version_major": 2,
       "version_minor": 0
      },
      "text/plain": [
       "Button(description='Browse file...', layout=Layout(height='80px', width='50%'), style=ButtonStyle())"
      ]
     },
     "metadata": {},
     "output_type": "display_data"
    },
    {
     "data": {
      "application/vnd.jupyter.widget-view+json": {
       "model_id": "7f6e19f7f0464fb28e1c2cfa7c3b1fcd",
       "version_major": 2,
       "version_minor": 0
      },
      "text/plain": [
       "ToggleButton(value=False, button_style='success', description='OK', icon='check', layout=Layout(height='80px',…"
      ]
     },
     "metadata": {},
     "output_type": "display_data"
    },
    {
     "name": "stdout",
     "output_type": "stream",
     "text": [
      "C:/Users/MSI GP63/1sample.xlsx\n"
     ]
    },
    {
     "data": {
      "text/html": [
       "<div>\n",
       "<style scoped>\n",
       "    .dataframe tbody tr th:only-of-type {\n",
       "        vertical-align: middle;\n",
       "    }\n",
       "\n",
       "    .dataframe tbody tr th {\n",
       "        vertical-align: top;\n",
       "    }\n",
       "\n",
       "    .dataframe thead th {\n",
       "        text-align: right;\n",
       "    }\n",
       "</style>\n",
       "<table border=\"1\" class=\"dataframe\">\n",
       "  <thead>\n",
       "    <tr style=\"text-align: right;\">\n",
       "      <th></th>\n",
       "      <th>Unnamed: 0</th>\n",
       "      <th>Total output</th>\n",
       "      <th>TCS</th>\n",
       "      <th>CPP</th>\n",
       "      <th>Total output (Russia)</th>\n",
       "      <th>TCS (Russia)</th>\n",
       "      <th>CPP (Russia)</th>\n",
       "      <th>MNCS (Russia)</th>\n",
       "      <th>CORE</th>\n",
       "      <th>CCF</th>\n",
       "    </tr>\n",
       "  </thead>\n",
       "  <tbody>\n",
       "    <tr>\n",
       "      <th>0</th>\n",
       "      <td>Euromicro International Conference on Parallel...</td>\n",
       "      <td>964</td>\n",
       "      <td>5829</td>\n",
       "      <td>6.046680</td>\n",
       "      <td>33</td>\n",
       "      <td>287</td>\n",
       "      <td>8.696970</td>\n",
       "      <td>1.721561</td>\n",
       "      <td>C</td>\n",
       "      <td>-</td>\n",
       "    </tr>\n",
       "    <tr>\n",
       "      <th>1</th>\n",
       "      <td>IEEE International Symposium on a World of Wir...</td>\n",
       "      <td>1077</td>\n",
       "      <td>9149</td>\n",
       "      <td>8.494893</td>\n",
       "      <td>10</td>\n",
       "      <td>123</td>\n",
       "      <td>12.300000</td>\n",
       "      <td>1.047986</td>\n",
       "      <td>A</td>\n",
       "      <td>-</td>\n",
       "    </tr>\n",
       "    <tr>\n",
       "      <th>2</th>\n",
       "      <td>IEEE Symposium on Computers and Communications</td>\n",
       "      <td>3810</td>\n",
       "      <td>21714</td>\n",
       "      <td>5.699213</td>\n",
       "      <td>6</td>\n",
       "      <td>73</td>\n",
       "      <td>12.166667</td>\n",
       "      <td>1.112090</td>\n",
       "      <td>B</td>\n",
       "      <td>-</td>\n",
       "    </tr>\n",
       "    <tr>\n",
       "      <th>3</th>\n",
       "      <td>IEEE Vehicular Technology Conference</td>\n",
       "      <td>10501</td>\n",
       "      <td>61988</td>\n",
       "      <td>5.903057</td>\n",
       "      <td>55</td>\n",
       "      <td>251</td>\n",
       "      <td>4.563636</td>\n",
       "      <td>1.012643</td>\n",
       "      <td>B</td>\n",
       "      <td>-</td>\n",
       "    </tr>\n",
       "    <tr>\n",
       "      <th>4</th>\n",
       "      <td>International Conference on Advanced Computing...</td>\n",
       "      <td>3533</td>\n",
       "      <td>15524</td>\n",
       "      <td>4.393999</td>\n",
       "      <td>58</td>\n",
       "      <td>367</td>\n",
       "      <td>6.327586</td>\n",
       "      <td>1.007247</td>\n",
       "      <td>National: India</td>\n",
       "      <td>-</td>\n",
       "    </tr>\n",
       "  </tbody>\n",
       "</table>\n",
       "</div>"
      ],
      "text/plain": [
       "                                          Unnamed: 0  Total output    TCS  \\\n",
       "0  Euromicro International Conference on Parallel...           964   5829   \n",
       "1  IEEE International Symposium on a World of Wir...          1077   9149   \n",
       "2     IEEE Symposium on Computers and Communications          3810  21714   \n",
       "3               IEEE Vehicular Technology Conference         10501  61988   \n",
       "4  International Conference on Advanced Computing...          3533  15524   \n",
       "\n",
       "        CPP  Total output (Russia)  TCS (Russia)  CPP (Russia)  MNCS (Russia)  \\\n",
       "0  6.046680                     33           287      8.696970       1.721561   \n",
       "1  8.494893                     10           123     12.300000       1.047986   \n",
       "2  5.699213                      6            73     12.166667       1.112090   \n",
       "3  5.903057                     55           251      4.563636       1.012643   \n",
       "4  4.393999                     58           367      6.327586       1.007247   \n",
       "\n",
       "              CORE CCF  \n",
       "0                C   -  \n",
       "1                A   -  \n",
       "2                B   -  \n",
       "3                B   -  \n",
       "4  National: India   -  "
      ]
     },
     "metadata": {},
     "output_type": "display_data"
    },
    {
     "data": {
      "application/vnd.jupyter.widget-view+json": {
       "model_id": "0178f169833d43a08dbc52ccc6014a1d",
       "version_major": 2,
       "version_minor": 0
      },
      "text/plain": [
       "Dropdown(description='Select the column:', options=('Unnamed: 0', 'Total output', 'TCS', 'CPP', 'Total output …"
      ]
     },
     "metadata": {},
     "output_type": "display_data"
    },
    {
     "data": {
      "application/vnd.jupyter.widget-view+json": {
       "model_id": "5648fa69367240bb83e358699887a86d",
       "version_major": 2,
       "version_minor": 0
      },
      "text/plain": [
       "ToggleButton(value=False, button_style='success', description='OK', icon='check', layout=Layout(height='80px',…"
      ]
     },
     "metadata": {},
     "output_type": "display_data"
    },
    {
     "name": "stdout",
     "output_type": "stream",
     "text": [
      "If not needed, don't touch\n"
     ]
    },
    {
     "data": {
      "application/vnd.jupyter.widget-view+json": {
       "model_id": "2a001365487e4b8b96557e21005fe743",
       "version_major": 2,
       "version_minor": 0
      },
      "text/plain": [
       "SelectionRangeSlider(description='Years', index=(0, 0), layout=Layout(height='80px', width='50%'), options=(19…"
      ]
     },
     "metadata": {},
     "output_type": "display_data"
    },
    {
     "data": {
      "application/vnd.jupyter.widget-view+json": {
       "model_id": "44c117094f294a45ba9442c7f627d743",
       "version_major": 2,
       "version_minor": 0
      },
      "text/plain": [
       "Text(value='', description='Country:', layout=Layout(height='80px', width='50%'), placeholder='If not needed, …"
      ]
     },
     "metadata": {},
     "output_type": "display_data"
    },
    {
     "data": {
      "application/vnd.jupyter.widget-view+json": {
       "model_id": "5c7c2a3bc63f44c5b651893cc2048ec5",
       "version_major": 2,
       "version_minor": 0
      },
      "text/plain": [
       "ToggleButton(value=False, button_style='success', description='OK', icon='check', layout=Layout(height='80px',…"
      ]
     },
     "metadata": {},
     "output_type": "display_data"
    },
    {
     "data": {
      "application/vnd.jupyter.widget-view+json": {
       "model_id": "f977970de3d64dcfbf1109fe1fbf134e",
       "version_major": 2,
       "version_minor": 0
      },
      "text/plain": [
       "Button(description=\"Let's search!\", layout=Layout(height='80px', width='50%'), style=ButtonStyle())"
      ]
     },
     "metadata": {},
     "output_type": "display_data"
    },
    {
     "data": {
      "application/vnd.jupyter.widget-view+json": {
       "model_id": "91e9281b994b4139ac93e96287b924f5",
       "version_major": 2,
       "version_minor": 0
      },
      "text/plain": [
       "  0%|          | 0/5 [00:00<?, ?it/s]"
      ]
     },
     "metadata": {},
     "output_type": "display_data"
    },
    {
     "name": "stdout",
     "output_type": "stream",
     "text": [
      "Publications (Italy):\n"
     ]
    },
    {
     "data": {
      "text/html": [
       "<div>\n",
       "<style scoped>\n",
       "    .dataframe tbody tr th:only-of-type {\n",
       "        vertical-align: middle;\n",
       "    }\n",
       "\n",
       "    .dataframe tbody tr th {\n",
       "        vertical-align: top;\n",
       "    }\n",
       "\n",
       "    .dataframe thead th {\n",
       "        text-align: right;\n",
       "    }\n",
       "</style>\n",
       "<table border=\"1\" class=\"dataframe\">\n",
       "  <thead>\n",
       "    <tr style=\"text-align: right;\">\n",
       "      <th></th>\n",
       "      <th>2016</th>\n",
       "      <th>2017</th>\n",
       "    </tr>\n",
       "  </thead>\n",
       "  <tbody>\n",
       "    <tr>\n",
       "      <th>Euromicro International Conference on Parallel, Distributed and Network Based Processing</th>\n",
       "      <td>17</td>\n",
       "      <td>17</td>\n",
       "    </tr>\n",
       "    <tr>\n",
       "      <th>IEEE International Symposium on a World of Wireless, Mobile and Multimedia Networks</th>\n",
       "      <td>19</td>\n",
       "      <td>11</td>\n",
       "    </tr>\n",
       "    <tr>\n",
       "      <th>IEEE Symposium on Computers and Communications</th>\n",
       "      <td>89</td>\n",
       "      <td>39</td>\n",
       "    </tr>\n",
       "    <tr>\n",
       "      <th>IEEE Vehicular Technology Conference</th>\n",
       "      <td>12</td>\n",
       "      <td>5</td>\n",
       "    </tr>\n",
       "    <tr>\n",
       "      <th>International Conference on Advanced Computing and Communications</th>\n",
       "      <td>3</td>\n",
       "      <td>16</td>\n",
       "    </tr>\n",
       "  </tbody>\n",
       "</table>\n",
       "</div>"
      ],
      "text/plain": [
       "                                                    2016  2017\n",
       "Euromicro International Conference on Parallel,...    17    17\n",
       "IEEE International Symposium on a World of Wire...    19    11\n",
       "IEEE Symposium on Computers and Communications        89    39\n",
       "IEEE Vehicular Technology Conference                  12     5\n",
       "International Conference on Advanced Computing ...     3    16"
      ]
     },
     "metadata": {},
     "output_type": "display_data"
    },
    {
     "name": "stdout",
     "output_type": "stream",
     "text": [
      "Citations (Italy):\n"
     ]
    },
    {
     "data": {
      "text/html": [
       "<div>\n",
       "<style scoped>\n",
       "    .dataframe tbody tr th:only-of-type {\n",
       "        vertical-align: middle;\n",
       "    }\n",
       "\n",
       "    .dataframe tbody tr th {\n",
       "        vertical-align: top;\n",
       "    }\n",
       "\n",
       "    .dataframe thead th {\n",
       "        text-align: right;\n",
       "    }\n",
       "</style>\n",
       "<table border=\"1\" class=\"dataframe\">\n",
       "  <thead>\n",
       "    <tr style=\"text-align: right;\">\n",
       "      <th></th>\n",
       "      <th>2016</th>\n",
       "      <th>2017</th>\n",
       "    </tr>\n",
       "  </thead>\n",
       "  <tbody>\n",
       "    <tr>\n",
       "      <th>Euromicro International Conference on Parallel, Distributed and Network Based Processing</th>\n",
       "      <td>120</td>\n",
       "      <td>107</td>\n",
       "    </tr>\n",
       "    <tr>\n",
       "      <th>IEEE International Symposium on a World of Wireless, Mobile and Multimedia Networks</th>\n",
       "      <td>194</td>\n",
       "      <td>40</td>\n",
       "    </tr>\n",
       "    <tr>\n",
       "      <th>IEEE Symposium on Computers and Communications</th>\n",
       "      <td>993</td>\n",
       "      <td>365</td>\n",
       "    </tr>\n",
       "    <tr>\n",
       "      <th>IEEE Vehicular Technology Conference</th>\n",
       "      <td>115</td>\n",
       "      <td>25</td>\n",
       "    </tr>\n",
       "    <tr>\n",
       "      <th>International Conference on Advanced Computing and Communications</th>\n",
       "      <td>28</td>\n",
       "      <td>109</td>\n",
       "    </tr>\n",
       "  </tbody>\n",
       "</table>\n",
       "</div>"
      ],
      "text/plain": [
       "                                                    2016  2017\n",
       "Euromicro International Conference on Parallel,...   120   107\n",
       "IEEE International Symposium on a World of Wire...   194    40\n",
       "IEEE Symposium on Computers and Communications       993   365\n",
       "IEEE Vehicular Technology Conference                 115    25\n",
       "International Conference on Advanced Computing ...    28   109"
      ]
     },
     "metadata": {},
     "output_type": "display_data"
    },
    {
     "name": "stdout",
     "output_type": "stream",
     "text": [
      "Publications (World):\n"
     ]
    },
    {
     "data": {
      "text/html": [
       "<div>\n",
       "<style scoped>\n",
       "    .dataframe tbody tr th:only-of-type {\n",
       "        vertical-align: middle;\n",
       "    }\n",
       "\n",
       "    .dataframe tbody tr th {\n",
       "        vertical-align: top;\n",
       "    }\n",
       "\n",
       "    .dataframe thead th {\n",
       "        text-align: right;\n",
       "    }\n",
       "</style>\n",
       "<table border=\"1\" class=\"dataframe\">\n",
       "  <thead>\n",
       "    <tr style=\"text-align: right;\">\n",
       "      <th></th>\n",
       "      <th>2016</th>\n",
       "      <th>2017</th>\n",
       "    </tr>\n",
       "  </thead>\n",
       "  <tbody>\n",
       "    <tr>\n",
       "      <th>Euromicro International Conference on Parallel, Distributed and Network Based Processing</th>\n",
       "      <td>125</td>\n",
       "      <td>93</td>\n",
       "    </tr>\n",
       "    <tr>\n",
       "      <th>IEEE International Symposium on a World of Wireless, Mobile and Multimedia Networks</th>\n",
       "      <td>101</td>\n",
       "      <td>85</td>\n",
       "    </tr>\n",
       "    <tr>\n",
       "      <th>IEEE Symposium on Computers and Communications</th>\n",
       "      <td>854</td>\n",
       "      <td>323</td>\n",
       "    </tr>\n",
       "    <tr>\n",
       "      <th>IEEE Vehicular Technology Conference</th>\n",
       "      <td>1332</td>\n",
       "      <td>649</td>\n",
       "    </tr>\n",
       "    <tr>\n",
       "      <th>International Conference on Advanced Computing and Communications</th>\n",
       "      <td>501</td>\n",
       "      <td>633</td>\n",
       "    </tr>\n",
       "  </tbody>\n",
       "</table>\n",
       "</div>"
      ],
      "text/plain": [
       "                                                    2016  2017\n",
       "Euromicro International Conference on Parallel,...   125    93\n",
       "IEEE International Symposium on a World of Wire...   101    85\n",
       "IEEE Symposium on Computers and Communications       854   323\n",
       "IEEE Vehicular Technology Conference                1332   649\n",
       "International Conference on Advanced Computing ...   501   633"
      ]
     },
     "metadata": {},
     "output_type": "display_data"
    },
    {
     "name": "stdout",
     "output_type": "stream",
     "text": [
      "Citations (World):\n"
     ]
    },
    {
     "data": {
      "text/html": [
       "<div>\n",
       "<style scoped>\n",
       "    .dataframe tbody tr th:only-of-type {\n",
       "        vertical-align: middle;\n",
       "    }\n",
       "\n",
       "    .dataframe tbody tr th {\n",
       "        vertical-align: top;\n",
       "    }\n",
       "\n",
       "    .dataframe thead th {\n",
       "        text-align: right;\n",
       "    }\n",
       "</style>\n",
       "<table border=\"1\" class=\"dataframe\">\n",
       "  <thead>\n",
       "    <tr style=\"text-align: right;\">\n",
       "      <th></th>\n",
       "      <th>2016</th>\n",
       "      <th>2017</th>\n",
       "    </tr>\n",
       "  </thead>\n",
       "  <tbody>\n",
       "    <tr>\n",
       "      <th>Euromicro International Conference on Parallel, Distributed and Network Based Processing</th>\n",
       "      <td>641</td>\n",
       "      <td>460</td>\n",
       "    </tr>\n",
       "    <tr>\n",
       "      <th>IEEE International Symposium on a World of Wireless, Mobile and Multimedia Networks</th>\n",
       "      <td>883</td>\n",
       "      <td>648</td>\n",
       "    </tr>\n",
       "    <tr>\n",
       "      <th>IEEE Symposium on Computers and Communications</th>\n",
       "      <td>6035</td>\n",
       "      <td>2222</td>\n",
       "    </tr>\n",
       "    <tr>\n",
       "      <th>IEEE Vehicular Technology Conference</th>\n",
       "      <td>8575</td>\n",
       "      <td>3315</td>\n",
       "    </tr>\n",
       "    <tr>\n",
       "      <th>International Conference on Advanced Computing and Communications</th>\n",
       "      <td>1583</td>\n",
       "      <td>3275</td>\n",
       "    </tr>\n",
       "  </tbody>\n",
       "</table>\n",
       "</div>"
      ],
      "text/plain": [
       "                                                    2016  2017\n",
       "Euromicro International Conference on Parallel,...   641   460\n",
       "IEEE International Symposium on a World of Wire...   883   648\n",
       "IEEE Symposium on Computers and Communications      6035  2222\n",
       "IEEE Vehicular Technology Conference                8575  3315\n",
       "International Conference on Advanced Computing ...  1583  3275"
      ]
     },
     "metadata": {},
     "output_type": "display_data"
    },
    {
     "data": {
      "application/vnd.jupyter.widget-view+json": {
       "model_id": "0e4416178b7144d6a6d99c752c0bb6b5",
       "version_major": 2,
       "version_minor": 0
      },
      "text/plain": [
       "Button(description='Download as an Excel file', layout=Layout(height='80px', width='50%'), style=ButtonStyle()…"
      ]
     },
     "metadata": {},
     "output_type": "display_data"
    },
    {
     "data": {
      "application/vnd.jupyter.widget-view+json": {
       "model_id": "b5e59b2284074ae2815f2bd856783ab4",
       "version_major": 2,
       "version_minor": 0
      },
      "text/plain": [
       "Button(description='Get metrics', layout=Layout(height='80px', width='50%'), style=ButtonStyle())"
      ]
     },
     "metadata": {},
     "output_type": "display_data"
    },
    {
     "name": "stdout",
     "output_type": "stream",
     "text": [
      "Downloaded to C:\\Users\\MSI GP63!\n"
     ]
    },
    {
     "data": {
      "text/html": [
       "<div>\n",
       "<style scoped>\n",
       "    .dataframe tbody tr th:only-of-type {\n",
       "        vertical-align: middle;\n",
       "    }\n",
       "\n",
       "    .dataframe tbody tr th {\n",
       "        vertical-align: top;\n",
       "    }\n",
       "\n",
       "    .dataframe thead th {\n",
       "        text-align: right;\n",
       "    }\n",
       "</style>\n",
       "<table border=\"1\" class=\"dataframe\">\n",
       "  <thead>\n",
       "    <tr style=\"text-align: right;\">\n",
       "      <th></th>\n",
       "      <th>Total output (italy)</th>\n",
       "      <th>TCS (italy)</th>\n",
       "      <th>CPP (italy)</th>\n",
       "      <th>MNCS (italy)</th>\n",
       "      <th>Total output (World)</th>\n",
       "      <th>TCS (World)</th>\n",
       "      <th>CPP (World)</th>\n",
       "    </tr>\n",
       "  </thead>\n",
       "  <tbody>\n",
       "    <tr>\n",
       "      <th>Euromicro International Conference on Parallel, Distributed and Network Based Processing</th>\n",
       "      <td>34</td>\n",
       "      <td>227</td>\n",
       "      <td>6.676471</td>\n",
       "      <td>1.335294</td>\n",
       "      <td>218</td>\n",
       "      <td>1101</td>\n",
       "      <td>5.050459</td>\n",
       "    </tr>\n",
       "    <tr>\n",
       "      <th>IEEE International Symposium on a World of Wireless, Mobile and Multimedia Networks</th>\n",
       "      <td>30</td>\n",
       "      <td>234</td>\n",
       "      <td>7.800000</td>\n",
       "      <td>1.384689</td>\n",
       "      <td>186</td>\n",
       "      <td>1531</td>\n",
       "      <td>8.231183</td>\n",
       "    </tr>\n",
       "    <tr>\n",
       "      <th>IEEE Symposium on Computers and Communications</th>\n",
       "      <td>128</td>\n",
       "      <td>1358</td>\n",
       "      <td>10.609375</td>\n",
       "      <td>2.051628</td>\n",
       "      <td>1177</td>\n",
       "      <td>8257</td>\n",
       "      <td>7.015293</td>\n",
       "    </tr>\n",
       "    <tr>\n",
       "      <th>IEEE Vehicular Technology Conference</th>\n",
       "      <td>17</td>\n",
       "      <td>140</td>\n",
       "      <td>8.235294</td>\n",
       "      <td>1.458333</td>\n",
       "      <td>1981</td>\n",
       "      <td>11890</td>\n",
       "      <td>6.002019</td>\n",
       "    </tr>\n",
       "    <tr>\n",
       "      <th>International Conference on Advanced Computing and Communications</th>\n",
       "      <td>19</td>\n",
       "      <td>137</td>\n",
       "      <td>7.210526</td>\n",
       "      <td>1.614583</td>\n",
       "      <td>1134</td>\n",
       "      <td>4858</td>\n",
       "      <td>4.283951</td>\n",
       "    </tr>\n",
       "  </tbody>\n",
       "</table>\n",
       "</div>"
      ],
      "text/plain": [
       "                                                    Total output (italy)  \\\n",
       "Euromicro International Conference on Parallel,...                    34   \n",
       "IEEE International Symposium on a World of Wire...                    30   \n",
       "IEEE Symposium on Computers and Communications                       128   \n",
       "IEEE Vehicular Technology Conference                                  17   \n",
       "International Conference on Advanced Computing ...                    19   \n",
       "\n",
       "                                                    TCS (italy)  CPP (italy)  \\\n",
       "Euromicro International Conference on Parallel,...          227     6.676471   \n",
       "IEEE International Symposium on a World of Wire...          234     7.800000   \n",
       "IEEE Symposium on Computers and Communications             1358    10.609375   \n",
       "IEEE Vehicular Technology Conference                        140     8.235294   \n",
       "International Conference on Advanced Computing ...          137     7.210526   \n",
       "\n",
       "                                                    MNCS (italy)  \\\n",
       "Euromicro International Conference on Parallel,...      1.335294   \n",
       "IEEE International Symposium on a World of Wire...      1.384689   \n",
       "IEEE Symposium on Computers and Communications          2.051628   \n",
       "IEEE Vehicular Technology Conference                    1.458333   \n",
       "International Conference on Advanced Computing ...      1.614583   \n",
       "\n",
       "                                                    Total output (World)  \\\n",
       "Euromicro International Conference on Parallel,...                   218   \n",
       "IEEE International Symposium on a World of Wire...                   186   \n",
       "IEEE Symposium on Computers and Communications                      1177   \n",
       "IEEE Vehicular Technology Conference                                1981   \n",
       "International Conference on Advanced Computing ...                  1134   \n",
       "\n",
       "                                                    TCS (World)  CPP (World)  \n",
       "Euromicro International Conference on Parallel,...         1101     5.050459  \n",
       "IEEE International Symposium on a World of Wire...         1531     8.231183  \n",
       "IEEE Symposium on Computers and Communications             8257     7.015293  \n",
       "IEEE Vehicular Technology Conference                      11890     6.002019  \n",
       "International Conference on Advanced Computing ...         4858     4.283951  "
      ]
     },
     "metadata": {},
     "output_type": "display_data"
    },
    {
     "name": "stdout",
     "output_type": "stream",
     "text": [
      "\u001b[1mTotal output\u001b[0m — total count of publications\n",
      "\u001b[1mTCS\u001b[0m — total count of citations\n",
      "\u001b[1mCPP\u001b[0m — citation per paper\n",
      "\u001b[1mMNCS\u001b[0m — Mean normalized citation score\n",
      "\n",
      "\u001b[1mIf MNCS is >1, the conference is a good choice to be noticed\u001b[0m\n"
     ]
    }
   ],
   "source": [
    "import pandas as pd\n",
    "from pybliometrics.scopus import ScopusSearch, CitationOverview\n",
    "from ipywidgets import *\n",
    "import numpy as np\n",
    "\n",
    "import matplotlib.pyplot as plt\n",
    "plt.style.use('hello.mplstyle')\n",
    "\n",
    "from tkinter import Tk, filedialog\n",
    "from IPython.display import clear_output, display\n",
    "\n",
    "import os\n",
    "from tqdm.notebook import tqdm\n",
    "\n",
    "# функция выбора файла\n",
    "def select_files(b):\n",
    "    root = Tk()\n",
    "    root.withdraw()                                        # Hide the main window.\n",
    "    root.call('wm', 'attributes', '.', '-topmost', True)   # Raise the root to the top of all windows.\n",
    "    b.files = filedialog.askopenfilename(multiple=False)    # List of selected files will be set button's file attribute.\n",
    "    print(b.files)\n",
    "    \n",
    "# функция чтения файла    \n",
    "def read_files(b):\n",
    "    file = b.files\n",
    "\n",
    "    if file.endswith('.csv'):\n",
    "        df = pd.read_csv(file)\n",
    "    elif file.endswith('.xlsx') or file.endswith('.xls'):\n",
    "        df = pd.read_excel(file)\n",
    "    else:\n",
    "        print('Error: Not supported file type.')\n",
    "\n",
    "    return df\n",
    "\n",
    "    \n",
    "def on_click3(change):\n",
    "    global y, alist, blist, listc, begin, ac\n",
    "    if (pys.value == ()):\n",
    "        py1,py2 = '',''\n",
    "        y = []\n",
    "    elif (pys.value[0] == pys.value[1]):\n",
    "        py1 = py2 = pys.value[0]\n",
    "        y = [py1]\n",
    "    else:\n",
    "        py1 = pys.value[0] - 1\n",
    "        py2 = pys.value[1] + 1\n",
    "        y = [i for i in range (pys.value[0], pys.value[1])]\n",
    "    ac = acs.value\n",
    "    \n",
    "    begin = pd.DataFrame([], columns=y)\n",
    "    \n",
    "    b = ''\n",
    "    alist = []\n",
    "    blist = []\n",
    "    listc = []\n",
    "    for i in confs.tolist():\n",
    "        listc.append(i)\n",
    "        ### НАСТРОЙКА QUEUE ДЛЯ ПОИСКА ###\n",
    "        disallowed_characters = \"()\"            \n",
    "        for character in disallowed_characters:\n",
    "            i = i.replace(character, \"\")\n",
    "        if (py1 == py2) and (py1+py2 != '') and (ac != ''):\n",
    "            a = ('CONF ( {} ) AND  PUBYEAR = ' + str(py1) + ' AND AFFILCOUNTRY ( ' + str(ac) + ' )').format(i)\n",
    "            b = ('CONF ( {} ) AND  PUBYEAR = ' + str(py1)).format(i)\n",
    "        elif (ac != '') and (py1 != '') and (py2 != ''):\n",
    "            a = ('CONF ( {} ) AND  PUBYEAR > ' + str(py1) + ' AND  PUBYEAR < ' + str(py2) + ' AND AFFILCOUNTRY ( ' + str(ac) + ' )').format(i)\n",
    "            b = ('CONF ( {} ) AND  PUBYEAR > ' + str(py1) + ' AND  PUBYEAR < ' + str(py2)).format(i)\n",
    "        elif (str(py1) + str(py2) + ac == ''):\n",
    "            a = 'CONF ( {} )'.format(i)\n",
    "        elif (py1 + py2 == '') and (ac != ''):\n",
    "            a = ('CONF ( {} ) AND AFFILCOUNTRY ( ' + str(ac) + ' )').format(i)\n",
    "            b = ('CONF ( {} )').format(i)\n",
    "        elif (py1 == py2) and (py1+py2 != '') and (ac == ''):\n",
    "            a = ('CONF ( {} ) AND  PUBYEAR = ' + str(py1)).format(i)\n",
    "        elif (ac == '') and (py1 != '') and (py2 != ''):\n",
    "            a = ('CONF ( {} ) AND  PUBYEAR > ' + str(py1) + ' AND  PUBYEAR < ' + str(py2)).format(i)\n",
    "        \n",
    "        \n",
    "        alist.append(a)\n",
    "        if (b != ''):\n",
    "            blist.append(b)    \n",
    "        ### *** НАСТРОЙКА QUEUE ДЛЯ ПОИСКА *** ###    \n",
    "    \n",
    "    display(gobut)\n",
    "\n",
    "def on_click2(change):\n",
    "    global confs\n",
    "    confs = df[colsel.value]\n",
    "    print(\"If not needed, don't touch\")\n",
    "    display(pys, acs, ready3)\n",
    "    ready3.observe(on_click3, 'value')\n",
    "\n",
    "\n",
    "# отслеживаем, нажата ли кнопка \"я закончил\"\n",
    "def on_click1(change):\n",
    "    try:\n",
    "        if (browsebut.files is None == False) or (browsebut.files != ''):\n",
    "            global df\n",
    "            df = read_files(browsebut)\n",
    "            display(df)\n",
    "            # список названий столбцов\n",
    "            global colsel\n",
    "            colsel = Dropdown(options=df.columns, description='Select the column:')\n",
    "            display(colsel, ready2)\n",
    "            \n",
    "            ready2.observe(on_click2, 'value')\n",
    "            \n",
    "        else:\n",
    "            print('Please, choose the file')\n",
    "    except (AttributeError, UnboundLocalError) as e:\n",
    "        print('Please, choose the file')\n",
    "        \n",
    "def ScSearch(b):\n",
    "    global aresp, aresc, bresp, bresc\n",
    "    aresp = pd.DataFrame([])\n",
    "    bresp = pd.DataFrame([])\n",
    "    aresc = pd.DataFrame([])\n",
    "    bresc = pd.DataFrame([])\n",
    "    for i in tqdm(alist):\n",
    "        s = ScopusSearch(i, subscriber = False)\n",
    "        df = pd.DataFrame(pd.DataFrame(s.results))\n",
    "        if df.empty != True:\n",
    "\n",
    "            df['coverDate'] = pd.DatetimeIndex(df['coverDate']).year # меняем данные на формат .year\n",
    "\n",
    "            # публикации #\n",
    "            temp1 = pd.DataFrame(df.value_counts(subset=['coverDate']), columns=['count']) # считаем публикации\n",
    "            temp1 = temp1.rename_axis(None).transpose() # переворачиваем, потому что костыли надо вертеть\n",
    "            temp1.columns = temp1.columns.get_level_values(0) # лечим то, что программа считает, что это мультииндекс\n",
    "            temp2 = begin.merge(temp1,how='outer') #объединяем результаты\n",
    "            temp2.index=[\"{}\".format(listc[alist.index(i)])] # подписываем конференцию\n",
    "            aresp = pd.concat([aresp,temp2])\n",
    "            #* публикации *#\n",
    "\n",
    "            # цитирования #\n",
    "            temp3 = df.groupby('coverDate').sum('citedby_count').drop('openaccess', axis=1) # убираем что-то, что непонятно откуда взялось и мешаеет\n",
    "            temp3 = temp3.rename_axis(None).transpose() # переворачиваем\n",
    "            temp3.columns = temp3.columns.get_level_values(0) # лечим MultiIndex\n",
    "            temp4 = begin.merge(temp3,how='outer')\n",
    "            temp4.index=['{}'.format(listc[alist.index(i)])]\n",
    "            aresc = pd.concat([aresc,temp4])\n",
    "            #* цитирования *#\n",
    "\n",
    "            if (blist != []):\n",
    "                k = blist[alist.index(i)]\n",
    "                sb = ScopusSearch(k, subscriber = False)\n",
    "                df2 = pd.DataFrame(pd.DataFrame(sb.results))\n",
    "                df2['coverDate'] = pd.DatetimeIndex(df2['coverDate']).year # меняем данные на формат .year\n",
    "\n",
    "                # публикации #\n",
    "                temp5 = pd.DataFrame(df2.value_counts(subset=['coverDate']), columns=['count']) # считаем публикации\n",
    "                temp5 = temp5.rename_axis(None).transpose() # переворачиваем, потому что костыли надо вертеть\n",
    "                temp5.columns = temp5.columns.get_level_values(0) # лечим то, что программа считает, что это мультииндекс\n",
    "                temp6 = begin.merge(temp5,how='outer') #объединяем результаты\n",
    "                temp6.index=['{}'.format(listc[blist.index(k)])] # подписываем конференцию\n",
    "                bresp = pd.concat([bresp,temp6])\n",
    "                #* публикации *#\n",
    "\n",
    "                # цитирования #\n",
    "                temp7 = df2.groupby('coverDate').sum('citedby_count').drop('openaccess', axis=1) # убираем что-то, что непонятно откуда взялось и мешаеет\n",
    "                temp7 = temp7.rename_axis(None).transpose() # переворачиваем\n",
    "                temp7.columns = temp7.columns.get_level_values(0) # лечим MultiIndex\n",
    "                temp8 = begin.merge(temp7,how='outer')\n",
    "                temp8.index=['{}'.format(listc[blist.index(k)])]\n",
    "                bresc = pd.concat([bresc,temp8])\n",
    "                    #* цитирования *#\n",
    "    print('Publications (Italy):')\n",
    "    display(aresp)\n",
    "    print('Citations (Italy):')\n",
    "    display(aresc)\n",
    "    if (blist != []):\n",
    "        print('Publications (World):')\n",
    "        display(bresp)\n",
    "        print('Citations (World):')\n",
    "        display(bresc)\n",
    "        \n",
    "    display(downbut1, metbut)\n",
    "        \n",
    "\n",
    "def Download1(b):\n",
    "    cwd = os.getcwd()\n",
    "    \n",
    "    if (blist != []):\n",
    "        with pd.ExcelWriter(f'{cwd}/output.xlsx') as writer:  \n",
    "            aresp.to_excel(writer, sheet_name=f'{ac} (Pub)')\n",
    "            aresc.to_excel(writer, sheet_name=f'{ac} (Cit)')\n",
    "            bresp.to_excel(writer, sheet_name='World (Pub)')\n",
    "            bresc.to_excel(writer, sheet_name='World (Cit)')\n",
    "            \n",
    "    else:\n",
    "        with pd.ExcelWriter(f'{cwd}/output.xlsx') as writer:  \n",
    "            aresp.to_excel(writer, sheet_name='Publications')\n",
    "            aresc.to_excel(writer, sheet_name='Citations')\n",
    "        \n",
    "    print(f'Downloaded to {cwd}!')\n",
    "    \n",
    "def metrics(b):\n",
    "    TO_a = pd.DataFrame([aresp.sum(axis=1)], index=[f'Total output ({ac})']).transpose()\n",
    "    TCS_a = pd.DataFrame([aresc.sum(axis=1)], index=[f'TCS ({ac})']).transpose()\n",
    "    CPP_a = pd.DataFrame([TCS_a[f'TCS ({ac})']/TO_a[f'Total output ({ac})']], index=[f'CPP ({ac})']).transpose()\n",
    "    A_res = pd.merge(pd.merge(TO_a,TCS_a,left_index=True, right_index=True),CPP_a,left_index=True, right_index=True)\n",
    "    \n",
    "    metres = A_res\n",
    "    \n",
    "    \n",
    "    \n",
    "    if (b != []):\n",
    "        TO_b = pd.DataFrame([bresp.sum(axis=1)], index=['Total output (World)']).transpose() # Total output\n",
    "        TCS_b = pd.DataFrame([bresc.sum(axis=1)], index=['TCS (World)']).transpose()\n",
    "        CPP_b = pd.DataFrame([TCS_b['TCS (World)']/TO_b['Total output (World)']], index=['CPP (World)']).transpose()\n",
    "        B_res = pd.merge(pd.merge(TO_b,TCS_b,left_index=True, right_index=True),CPP_b,left_index=True, right_index=True)\n",
    "        \n",
    "        MNCS_ci = aresc/aresp\n",
    "        MNCS_ei = bresc/bresc\n",
    "        MNCS_sum = (MNCS_ci/MNCS_ei).sum(axis=1)\n",
    "        MNCS_list = MNCS_sum*0.1\n",
    "        MNCS_a = pd.DataFrame([MNCS_list], index=[f'MNCS ({ac})']).transpose()\n",
    "\n",
    "        A_res = pd.merge(A_res, MNCS_a, left_index=True, right_index=True)\n",
    "        \n",
    "        metres = pd.merge(A_res, B_res, left_index=True, right_index=True)\n",
    "        metres.sort_values(f'MNCS ({ac})')\n",
    "        \n",
    "        \n",
    "    \n",
    "    display(metres)\n",
    "    \n",
    "    print('\\033[1m' + 'Total output' + '\\033[0m' + ' — total count of publications', \n",
    "          '\\033[1m' + 'TCS' + '\\033[0m' + ' — total count of citations',\n",
    "          '\\033[1m' + 'CPP' + '\\033[0m' + ' — citation per paper',\n",
    "          sep='\\n')\n",
    "    \n",
    "    if (b != []):\n",
    "        print('\\033[1m' + 'MNCS' + '\\033[0m' + ' — Mean normalized citation score\\n\\n',\n",
    "              '\\033[1m' + 'If MNCS is >1, the conference is a good choice to be noticed' + '\\033[0m', sep='')\n",
    "    \n",
    "############################################# КНОПКИ\n",
    "\n",
    "# кнопка для выбора файла\n",
    "browsebut = Button(description=\"Browse file...\", layout=Layout(width='50%', height='80px'))\n",
    "gobut = Button(description=\"Let's search!\", layout=browsebut.layout)\n",
    "downbut1 = Button(description=\"Download as an Excel file\", layout=browsebut.layout)\n",
    "metbut = Button(description=\"Get metrics\", layout=browsebut.layout)\n",
    "\n",
    "# кнопка \"я закончил\"\n",
    "ready = widgets.ToggleButton(description='OK', disabled=False, button_style='success', icon='check', layout=browsebut.layout)\n",
    "ready2 = widgets.ToggleButton(description='OK', disabled=False, button_style='success', icon='check', layout=browsebut.layout)\n",
    "ready3 = widgets.ToggleButton(description='OK', disabled=False, button_style='success', icon='check', layout=browsebut.layout)\n",
    "\n",
    "years = [i for i in range (1999, 2022)]\n",
    "pys = SelectionRangeSlider(options=years, description='Years', layout=browsebut.layout)\n",
    "\n",
    "acs = Text(placeholder='If not needed, leave blank', description='Country:', layout=browsebut.layout)\n",
    "\n",
    "############################################ КНОПКИ ЗАКОНЧИЛИСЬ\n",
    "\n",
    "browsebut.on_click(select_files) # по нажатию — выбираем файл\n",
    "    \n",
    "display(browsebut, ready) # показываем две кнопки\n",
    "\n",
    "ready.observe(on_click1, 'value')\n",
    "\n",
    "gobut.on_click(ScSearch)\n",
    "\n",
    "downbut1.on_click(Download1)\n",
    "\n",
    "metbut.on_click(metrics)"
   ]
  },
  {
   "cell_type": "code",
   "execution_count": null,
   "metadata": {},
   "outputs": [],
   "source": []
  }
 ],
 "metadata": {
  "kernelspec": {
   "display_name": "Python 3 (ipykernel)",
   "language": "python",
   "name": "python3"
  },
  "language_info": {
   "codemirror_mode": {
    "name": "ipython",
    "version": 3
   },
   "file_extension": ".py",
   "mimetype": "text/x-python",
   "name": "python",
   "nbconvert_exporter": "python",
   "pygments_lexer": "ipython3",
   "version": "3.8.5"
  },
  "varInspector": {
   "cols": {
    "lenName": 16,
    "lenType": 16,
    "lenVar": 40
   },
   "kernels_config": {
    "python": {
     "delete_cmd_postfix": "",
     "delete_cmd_prefix": "del ",
     "library": "var_list.py",
     "varRefreshCmd": "print(var_dic_list())"
    },
    "r": {
     "delete_cmd_postfix": ") ",
     "delete_cmd_prefix": "rm(",
     "library": "var_list.r",
     "varRefreshCmd": "cat(var_dic_list()) "
    }
   },
   "types_to_exclude": [
    "module",
    "function",
    "builtin_function_or_method",
    "instance",
    "_Feature"
   ],
   "window_display": false
  },
  "widgets": {
   "application/vnd.jupyter.widget-state+json": {
    "state": {
     "3cceb6a50fa24448905f744f85d80ef5": {
      "model_module": "@jupyter-widgets/controls",
      "model_module_version": "1.5.0",
      "model_name": "ButtonStyleModel",
      "state": {}
     },
     "44c62eb19e83469893c1e872b9de4c7a": {
      "model_module": "@jupyter-widgets/controls",
      "model_module_version": "1.5.0",
      "model_name": "ButtonStyleModel",
      "state": {}
     },
     "4d27f5fabc9d4380ba04bd740775a858": {
      "model_module": "@jupyter-widgets/controls",
      "model_module_version": "1.5.0",
      "model_name": "SelectionRangeSliderModel",
      "state": {
       "_model_name": "SelectionRangeSliderModel",
       "_options_labels": [
        "1999",
        "2000",
        "2001",
        "2002",
        "2003",
        "2004",
        "2005",
        "2006",
        "2007",
        "2008",
        "2009",
        "2010",
        "2011",
        "2012",
        "2013",
        "2014",
        "2015",
        "2016",
        "2017",
        "2018",
        "2019",
        "2020",
        "2021"
       ],
       "_view_name": "SelectionRangeSliderView",
       "description": "Years",
       "index": [
        0,
        0
       ],
       "layout": "IPY_MODEL_f8ca17ada05140afa10c8e9b8cdb763a",
       "style": "IPY_MODEL_5add74f17e0d43458323dc756ea07182"
      }
     },
     "511d0132707748c99e8d352b52dd84ca": {
      "model_module": "@jupyter-widgets/controls",
      "model_module_version": "1.5.0",
      "model_name": "DescriptionStyleModel",
      "state": {
       "description_width": ""
      }
     },
     "5add74f17e0d43458323dc756ea07182": {
      "model_module": "@jupyter-widgets/controls",
      "model_module_version": "1.5.0",
      "model_name": "DescriptionStyleModel",
      "state": {
       "description_width": ""
      }
     },
     "625a670bd79a4dc9aa29d3bebf5dd513": {
      "model_module": "@jupyter-widgets/controls",
      "model_module_version": "1.5.0",
      "model_name": "DescriptionStyleModel",
      "state": {
       "description_width": ""
      }
     },
     "767d981b870e4652b4fc6035bf6824fa": {
      "model_module": "@jupyter-widgets/controls",
      "model_module_version": "1.5.0",
      "model_name": "TextModel",
      "state": {
       "description": "Country:",
       "layout": "IPY_MODEL_f8ca17ada05140afa10c8e9b8cdb763a",
       "placeholder": "If not needed, leave blank",
       "style": "IPY_MODEL_cf6844ecb618401da2c3513a5946bfac"
      }
     },
     "779c41e5b3f6424c9e50ca9756cbd055": {
      "model_module": "@jupyter-widgets/controls",
      "model_module_version": "1.5.0",
      "model_name": "ButtonStyleModel",
      "state": {}
     },
     "7f6c71d774a84f9b90461b144985179c": {
      "model_module": "@jupyter-widgets/controls",
      "model_module_version": "1.5.0",
      "model_name": "ButtonStyleModel",
      "state": {}
     },
     "997f23c2881a4a88aad5d07165171af1": {
      "model_module": "@jupyter-widgets/controls",
      "model_module_version": "1.5.0",
      "model_name": "ButtonModel",
      "state": {
       "description": "Let's search!",
       "layout": "IPY_MODEL_f8ca17ada05140afa10c8e9b8cdb763a",
       "style": "IPY_MODEL_779c41e5b3f6424c9e50ca9756cbd055"
      }
     },
     "b29209931b264b82b9344690c3349dfe": {
      "model_module": "@jupyter-widgets/controls",
      "model_module_version": "1.5.0",
      "model_name": "ToggleButtonModel",
      "state": {
       "button_style": "success",
       "description": "OK",
       "icon": "check",
       "layout": "IPY_MODEL_f8ca17ada05140afa10c8e9b8cdb763a",
       "style": "IPY_MODEL_625a670bd79a4dc9aa29d3bebf5dd513"
      }
     },
     "b79c5d5f9b964756be35339db9dac783": {
      "model_module": "@jupyter-widgets/controls",
      "model_module_version": "1.5.0",
      "model_name": "DescriptionStyleModel",
      "state": {
       "description_width": ""
      }
     },
     "c0a3f260daf8460dbf2e24ede20cd32b": {
      "model_module": "@jupyter-widgets/controls",
      "model_module_version": "1.5.0",
      "model_name": "ButtonModel",
      "state": {
       "description": "Get metrics",
       "layout": "IPY_MODEL_f8ca17ada05140afa10c8e9b8cdb763a",
       "style": "IPY_MODEL_44c62eb19e83469893c1e872b9de4c7a"
      }
     },
     "ce0054e1fb314c1999070ebee44efd93": {
      "model_module": "@jupyter-widgets/controls",
      "model_module_version": "1.5.0",
      "model_name": "ButtonModel",
      "state": {
       "description": "Browse file...",
       "layout": "IPY_MODEL_f8ca17ada05140afa10c8e9b8cdb763a",
       "style": "IPY_MODEL_3cceb6a50fa24448905f744f85d80ef5"
      }
     },
     "cf6844ecb618401da2c3513a5946bfac": {
      "model_module": "@jupyter-widgets/controls",
      "model_module_version": "1.5.0",
      "model_name": "DescriptionStyleModel",
      "state": {
       "description_width": ""
      }
     },
     "e773f0945d6f4d61bc3c81927014a1b8": {
      "model_module": "@jupyter-widgets/controls",
      "model_module_version": "1.5.0",
      "model_name": "ToggleButtonModel",
      "state": {
       "button_style": "success",
       "description": "OK",
       "icon": "check",
       "layout": "IPY_MODEL_f8ca17ada05140afa10c8e9b8cdb763a",
       "style": "IPY_MODEL_511d0132707748c99e8d352b52dd84ca"
      }
     },
     "eabf4fd1f1d9482d8429bc6cddc021b7": {
      "model_module": "@jupyter-widgets/controls",
      "model_module_version": "1.5.0",
      "model_name": "ToggleButtonModel",
      "state": {
       "button_style": "success",
       "description": "OK",
       "icon": "check",
       "layout": "IPY_MODEL_f8ca17ada05140afa10c8e9b8cdb763a",
       "style": "IPY_MODEL_b79c5d5f9b964756be35339db9dac783"
      }
     },
     "f8ca17ada05140afa10c8e9b8cdb763a": {
      "model_module": "@jupyter-widgets/base",
      "model_module_version": "1.2.0",
      "model_name": "LayoutModel",
      "state": {
       "height": "80px",
       "width": "50%"
      }
     },
     "fb17b2cd8f4f4feeb4af110a1d0940d9": {
      "model_module": "@jupyter-widgets/controls",
      "model_module_version": "1.5.0",
      "model_name": "ButtonModel",
      "state": {
       "description": "Download as an Excel file",
       "layout": "IPY_MODEL_f8ca17ada05140afa10c8e9b8cdb763a",
       "style": "IPY_MODEL_7f6c71d774a84f9b90461b144985179c"
      }
     }
    },
    "version_major": 2,
    "version_minor": 0
   }
  }
 },
 "nbformat": 4,
 "nbformat_minor": 4
}
